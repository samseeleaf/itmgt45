{
 "cells": [
  {
   "cell_type": "code",
   "execution_count": 117,
   "id": "c54cd69f",
   "metadata": {},
   "outputs": [],
   "source": [
    "'''Module 2: Individual Programming Assignment 1\n",
    "\n",
    "Useful Business Calculations\n",
    "\n",
    "This assignment covers your basic proficiency with Python.\n",
    "'''\n",
    "\n",
    "def savings(gross_pay, tax_rate, expenses):\n",
    "    '''Savings.\n",
    "    2 points.\n",
    "\n",
    "    This function calculates the money remaining\n",
    "        for an employee after taxes and expenses.\n",
    "    \n",
    "    To get the take-home pay of an employee, we will\n",
    "        follow the following process:\n",
    "        1. Apply the tax rate to the gross pay of the employee; round down\n",
    "        2. Subtract the expenses from the after-tax pay of the employee\n",
    "\n",
    "    Parameters\n",
    "    ----------\n",
    "    gross_pay: int\n",
    "        the gross pay of an employee for a certain time period, expressed in centavos\n",
    "    tax_rate: float\n",
    "        the tax rate for a certain time period, expressed as a number between 0 and 1 (e.g., 0.12)\n",
    "    expenses: int\n",
    "        the expenses of an employee for a certain time period, expressed in centavos\n",
    "\n",
    "    Returns\n",
    "    -------\n",
    "    int\n",
    "        the number of centavos remaining from an employee's pay after taxes and expenses\n",
    "    '''\n",
    "    # Replace `pass` with your code. \n",
    "    # Stay within the function. Only use the parameters as input. The function should return your answer.\n",
    "    answer = (gross_pay*(1-tax_rate))-expenses\n",
    "    return answer\n",
    "\n",
    "def material_waste(total_material:int, material_units:str, num_jobs:int, job_consumption:int):\n",
    "    '''Material Waste.\n",
    "    2 points.\n",
    "\n",
    "    This function calculates how much material input will be wasted\n",
    "        after running a certain number of jobs that consume\n",
    "        a set amount of material.\n",
    "\n",
    "    To get the waste of a set of jobs:\n",
    "        1. Multiply the number of jobs by the material consumption per job.\n",
    "        2. Subtract the total material consumed from the total material available.\n",
    "\n",
    "    The users of this function also want you to format the output as a string, annotated with the\n",
    "        units in which the material is expressed. Do not add a space between the number and the unit.\n",
    "\n",
    "    Parameters\n",
    "    ----------\n",
    "    total_material: int\n",
    "        the total material available\n",
    "    material_units: str\n",
    "        the units used to express a quantity of the material (e.g., \"kg\", \"L\", etc.)\n",
    "    num_jobs: int\n",
    "        the number of jobs to run\n",
    "    job_consumption: int\n",
    "        the amount of material consumed per job\n",
    "\n",
    "    Returns\n",
    "    -------\n",
    "    str\n",
    "        the amount of remaining material expressed with its unit (e.g., \"10kg\").\n",
    "    '''\n",
    "    # Replace `pass` with your code. \n",
    "    # Stay within the function. Only use the parameters as input. The function should return your answer.\n",
    "    answer = str(total_material-(num_jobs*job_consumption)) \n",
    "    print(answer,material_units,sep=\"\")\n",
    "\n",
    "def interest(principal, rate, periods):\n",
    "    '''Interest.\n",
    "    3 points.\n",
    "\n",
    "    This function calculates the final value of an investment after\n",
    "        gaining simple interest over a number of periods.\n",
    "\n",
    "    To calculate simple interest, simply multiply the principal to the quantity (rate * time). \n",
    "        Add this amount to the principal to get the final value.\n",
    "\n",
    "    Round down the final amount.\n",
    "\n",
    "    Parameters\n",
    "    ----------\n",
    "    principal: int\n",
    "        the principal (i.e., starting) amount invested, expressed in centavos\n",
    "    rate: float\n",
    "        the interest rate per period, expressed as a decimal representation of a percentage (e.g., 3% is 0.03)\n",
    "    periods: int\n",
    "        the number of periods invested\n",
    "\n",
    "    Returns\n",
    "    -------\n",
    "    int\n",
    "        the final value of the investment\n",
    "    '''\n",
    "    # Replace `pass` with your code. \n",
    "    # Stay within the function. Only use the parameters as input. The function should return your answer.\n",
    "    answer = int(principal + (principal*rate*periods))\n",
    "    return answer\n",
    "\n",
    "def body_mass_index(weight, height):\n",
    "    '''Body Mass Index.\n",
    "    3 points.\n",
    "\n",
    "    This function calculates the body mass index (BMI) of a person\n",
    "        given their weight and height.\n",
    "\n",
    "    The formula for BMI is: kg / (m ^ 2)\n",
    "        (i.e., kilograms over meters squared)\n",
    "\n",
    "    Unfortunately, the users of this function use the imperial system.\n",
    "        You will need to first convert their arguments to the metric system.\n",
    "    \n",
    "    Parameters\n",
    "    ----------\n",
    "    weight: float\n",
    "        the weight of the person, in pounds\n",
    "    height: list\n",
    "        the height of the person, expressed as a list of two integers.\n",
    "        the first integer is the foot component of their height.\n",
    "        the second integer is the inches component of their height.\n",
    "        for example, 5'10\" would be passed as [5, 10].\n",
    "\n",
    "    Returns\n",
    "    -------\n",
    "    float\n",
    "        the BMI of the person.\n",
    "    '''\n",
    "    # Replace `pass` with your code. \n",
    "    # Stay within the function. Only use the parameters as input. The function should return your answer.\n",
    "    \n",
    "    weight_kg = float(weight/2.205)\n",
    "    height_m = (((height[0]*12)+height[1])/39.47)\n",
    "    bmi = float(weight_kg/height_m**2)\n",
    "    return bmi\n",
    "    \n"
   ]
  },
  {
   "cell_type": "code",
   "execution_count": 107,
   "id": "73393d7e",
   "metadata": {},
   "outputs": [
    {
     "data": {
      "text/plain": [
       "240.0"
      ]
     },
     "execution_count": 107,
     "metadata": {},
     "output_type": "execute_result"
    }
   ],
   "source": [
    "savings(500,0.12,200)"
   ]
  },
  {
   "cell_type": "code",
   "execution_count": 108,
   "id": "bd5f71dc",
   "metadata": {},
   "outputs": [
    {
     "name": "stdout",
     "output_type": "stream",
     "text": [
      "40kg\n"
     ]
    }
   ],
   "source": [
    "material_waste(100, \"kg\", 2, 30)"
   ]
  },
  {
   "cell_type": "code",
   "execution_count": 109,
   "id": "a7cadc3d",
   "metadata": {},
   "outputs": [
    {
     "data": {
      "text/plain": [
       "600"
      ]
     },
     "execution_count": 109,
     "metadata": {},
     "output_type": "execute_result"
    }
   ],
   "source": [
    "interest(500, 0.1, 2)"
   ]
  },
  {
   "cell_type": "code",
   "execution_count": 116,
   "id": "9160c1e7",
   "metadata": {},
   "outputs": [
    {
     "data": {
      "text/plain": [
       "3.6759726852933334"
      ]
     },
     "execution_count": 116,
     "metadata": {},
     "output_type": "execute_result"
    }
   ],
   "source": [
    "body_mass_index(20,[5,2])"
   ]
  },
  {
   "cell_type": "code",
   "execution_count": 118,
   "id": "dd0e735c",
   "metadata": {},
   "outputs": [
    {
     "data": {
      "text/plain": [
       "1.5708132759057511"
      ]
     },
     "execution_count": 118,
     "metadata": {},
     "output_type": "execute_result"
    }
   ],
   "source": [
    "62/39.47"
   ]
  },
  {
   "cell_type": "code",
   "execution_count": 119,
   "id": "3a74f8f9",
   "metadata": {},
   "outputs": [
    {
     "data": {
      "text/plain": [
       "9.070294784580499"
      ]
     },
     "execution_count": 119,
     "metadata": {},
     "output_type": "execute_result"
    }
   ],
   "source": [
    "20/2.205"
   ]
  },
  {
   "cell_type": "code",
   "execution_count": 120,
   "id": "079b0da8",
   "metadata": {},
   "outputs": [
    {
     "data": {
      "text/plain": [
       "3.6796624609517625"
      ]
     },
     "execution_count": 120,
     "metadata": {},
     "output_type": "execute_result"
    }
   ],
   "source": [
    "9.07/1.57**2"
   ]
  },
  {
   "cell_type": "code",
   "execution_count": null,
   "id": "de074716",
   "metadata": {},
   "outputs": [],
   "source": []
  }
 ],
 "metadata": {
  "kernelspec": {
   "display_name": "Python 3 (ipykernel)",
   "language": "python",
   "name": "python3"
  },
  "language_info": {
   "codemirror_mode": {
    "name": "ipython",
    "version": 3
   },
   "file_extension": ".py",
   "mimetype": "text/x-python",
   "name": "python",
   "nbconvert_exporter": "python",
   "pygments_lexer": "ipython3",
   "version": "3.9.13"
  }
 },
 "nbformat": 4,
 "nbformat_minor": 5
}
